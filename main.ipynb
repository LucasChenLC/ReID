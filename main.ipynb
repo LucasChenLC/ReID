{
 "cells": [
  {
   "cell_type": "code",
   "execution_count": 1,
   "metadata": {},
   "outputs": [
    {
     "name": "stdout",
     "output_type": "stream",
     "text": [
      "Model: \"sequential\"\n",
      "_________________________________________________________________\n",
      "Layer (type)                 Output Shape              Param #   \n",
      "=================================================================\n",
      "conv2d (Conv2D)              (None, 126, 62, 32)       1760      \n",
      "_________________________________________________________________\n",
      "max_pooling2d (MaxPooling2D) (None, 63, 31, 32)        0         \n",
      "_________________________________________________________________\n",
      "conv2d_1 (Conv2D)            (None, 61, 29, 64)        18496     \n",
      "_________________________________________________________________\n",
      "max_pooling2d_1 (MaxPooling2 (None, 30, 14, 64)        0         \n",
      "_________________________________________________________________\n",
      "conv2d_2 (Conv2D)            (None, 28, 12, 64)        36928     \n",
      "_________________________________________________________________\n",
      "flatten (Flatten)            (None, 21504)             0         \n",
      "_________________________________________________________________\n",
      "dense (Dense)                (None, 64)                1376320   \n",
      "_________________________________________________________________\n",
      "dense_1 (Dense)              (None, 2)                 130       \n",
      "=================================================================\n",
      "Total params: 1,433,634\n",
      "Trainable params: 1,433,634\n",
      "Non-trainable params: 0\n",
      "_________________________________________________________________\n"
     ]
    }
   ],
   "source": [
    "import tensorflow as tf\n",
    "from tensorflow.keras import layers, models, datasets\n",
    "import matplotlib.pyplot as plt\n",
    "import numpy\n",
    "import json\n",
    "from dataset_loader import load_data, generate_set\n",
    "\n",
    "with open(\"settings.json\", \"r\", encoding='utf-8') as f:\n",
    "    data = json.loads(f.read())\n",
    "\n",
    "train_data, train_labels, test_data, test_labels = load_data(data[\"dataset_dir\"])\n",
    "train_data, train_labels = generate_set(train_data, train_labels, data[\"train_set_length\"])\n",
    "test_data, test_labels = generate_set(test_data, test_labels, data[\"train_set_length\"])\n",
    "\n",
    "model = models.Sequential()\n",
    "model.add(layers.Conv2D(32, (3, 3), activation='relu', input_shape=(128, 64, 6)))\n",
    "model.add(layers.MaxPooling2D((2, 2)))\n",
    "model.add(layers.Conv2D(64, (3, 3), activation='relu'))\n",
    "model.add(layers.MaxPooling2D((2, 2)))\n",
    "model.add(layers.Conv2D(64, (3, 3), activation='relu'))\n",
    "model.add(layers.Flatten())\n",
    "model.add(layers.Dense(64, activation='relu'))\n",
    "model.add(layers.Dense(2))\n",
    "model.summary()\n"
   ]
  },
  {
   "cell_type": "code",
   "execution_count": 2,
   "metadata": {},
   "outputs": [
    {
     "name": "stdout",
     "output_type": "stream",
     "text": [
      "Epoch 1/10\n",
      "250/250 [==============================] - 37s 148ms/step - loss: 0.5724 - accuracy: 0.6976 - val_loss: 0.4992 - val_accuracy: 0.7525\n",
      "Epoch 2/10\n",
      "250/250 [==============================] - 42s 168ms/step - loss: 0.4395 - accuracy: 0.8006 - val_loss: 0.4767 - val_accuracy: 0.7843\n",
      "Epoch 3/10\n",
      "250/250 [==============================] - 44s 174ms/step - loss: 0.3966 - accuracy: 0.8216 - val_loss: 0.4092 - val_accuracy: 0.8181\n",
      "Epoch 4/10\n",
      "250/250 [==============================] - 45s 180ms/step - loss: 0.3539 - accuracy: 0.8481 - val_loss: 0.4013 - val_accuracy: 0.8221\n",
      "Epoch 5/10\n",
      "250/250 [==============================] - 38s 153ms/step - loss: 0.3090 - accuracy: 0.8679 - val_loss: 0.4425 - val_accuracy: 0.8025\n",
      "Epoch 6/10\n",
      "250/250 [==============================] - 36s 145ms/step - loss: 0.2570 - accuracy: 0.8945 - val_loss: 0.4349 - val_accuracy: 0.8254\n",
      "Epoch 7/10\n",
      "250/250 [==============================] - 39s 156ms/step - loss: 0.1893 - accuracy: 0.9240 - val_loss: 0.4781 - val_accuracy: 0.8281\n",
      "Epoch 8/10\n",
      "250/250 [==============================] - 41s 164ms/step - loss: 0.1388 - accuracy: 0.9441 - val_loss: 0.6296 - val_accuracy: 0.8040\n",
      "Epoch 9/10\n",
      "250/250 [==============================] - 41s 165ms/step - loss: 0.0959 - accuracy: 0.9653 - val_loss: 0.7057 - val_accuracy: 0.7981\n",
      "Epoch 10/10\n",
      "250/250 [==============================] - 40s 161ms/step - loss: 0.0727 - accuracy: 0.9744 - val_loss: 0.7697 - val_accuracy: 0.8016\n"
     ]
    }
   ],
   "source": [
    "model.compile(optimizer='adam',\n",
    "              loss=tf.keras.losses.SparseCategoricalCrossentropy(from_logits=True),\n",
    "              metrics=['accuracy'])\n",
    "\n",
    "history = model.fit(train_data, train_labels, epochs=10,\n",
    "                    validation_data=(test_data, test_labels))"
   ]
  },
  {
   "cell_type": "code",
   "execution_count": 3,
   "metadata": {},
   "outputs": [
    {
     "name": "stdout",
     "output_type": "stream",
     "text": [
      "250/250 - 6s - loss: 0.7697 - accuracy: 0.8016\n"
     ]
    },
    {
     "data": {
      "image/png": "[encoded data removed]",
      "text/plain": [
       "<Figure size 432x288 with 1 Axes>"
      ]
     },
     "metadata": {
      "needs_background": "light"
     },
     "output_type": "display_data"
    }
   ],
   "source": [
    "plt.plot(history.history['accuracy'], label='accuracy')\n",
    "plt.plot(history.history['val_accuracy'], label = 'val_accuracy')\n",
    "plt.xlabel('Epoch')\n",
    "plt.ylabel('Accuracy')\n",
    "plt.ylim([0.5, 1])\n",
    "plt.legend(loc='lower right')\n",
    "\n",
    "test_loss, test_acc = model.evaluate(test_data,  test_labels, verbose=2)"
   ]
  },
  {
   "cell_type": "code",
   "execution_count": 4,
   "metadata": {},
   "outputs": [
    {
     "name": "stdout",
     "output_type": "stream",
     "text": [
      "[[-3.3745992  1.6121254]]\n"
     ]
    }
   ],
   "source": [
    "from PIL import Image\n",
    "import numpy as np\n",
    "image = Image.open(\"/Users/bluesky/Downloads/Market-1501-v15.09.15/bounding_box_test/0618_c3s2_020387_03.jpg\")\n",
    "image2 = Image.open(\"/Users/bluesky/Downloads/Market-1501-v15.09.15/bounding_box_test/0618_c3s2_020362_03.jpg\")\n",
    "d1 = np.array(image)/255.0\n",
    "d2 = np.array(image2)/255.0\n",
    "data = np.append(d1,d2,axis = 2)\n",
    "data = np.expand_dims(data, axis=0)\n",
    "result = model.predict(data)\n",
    "print(result)"
   ]
  }
 ],
 "metadata": {
  "kernelspec": {
   "display_name": "Python 3",
   "language": "python",
   "name": "python3"
  },
  "language_info": {
   "codemirror_mode": {
    "name": "ipython",
    "version": 3
   },
   "file_extension": ".py",
   "mimetype": "text/x-python",
   "name": "python",
   "nbconvert_exporter": "python",
   "pygments_lexer": "ipython3",
   "version": "3.8.3"
  }
 },
 "nbformat": 4,
 "nbformat_minor": 4
}
